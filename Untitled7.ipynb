{
  "nbformat": 4,
  "nbformat_minor": 0,
  "metadata": {
    "colab": {
      "provenance": [],
      "authorship_tag": "ABX9TyNJXlQmW4NwClkEL/K9i85Z",
      "include_colab_link": true
    },
    "kernelspec": {
      "name": "python3",
      "display_name": "Python 3"
    },
    "language_info": {
      "name": "python"
    }
  },
  "cells": [
    {
      "cell_type": "markdown",
      "metadata": {
        "id": "view-in-github",
        "colab_type": "text"
      },
      "source": [
        "<a href=\"https://colab.research.google.com/github/Alnaimi11/banknote/blob/main/Untitled7.ipynb\" target=\"_parent\"><img src=\"https://colab.research.google.com/assets/colab-badge.svg\" alt=\"Open In Colab\"/></a>"
      ]
    },
    {
      "cell_type": "code",
      "execution_count": 1,
      "metadata": {
        "id": "fPFR_fgRaLXb"
      },
      "outputs": [],
      "source": [
        "import numpy as np\n",
        "import pandas as pd\n",
        "\n",
        "# Load data\n",
        "data=pd.read_csv('/content/BankNote_Authentication.csv')"
      ]
    },
    {
      "cell_type": "code",
      "source": [
        "data.head()"
      ],
      "metadata": {
        "colab": {
          "base_uri": "https://localhost:8080/",
          "height": 206
        },
        "id": "OKGCY7Grah-F",
        "outputId": "ef943241-5d52-4a1f-ff2a-286e2dde1f3d"
      },
      "execution_count": 2,
      "outputs": [
        {
          "output_type": "execute_result",
          "data": {
            "text/plain": [
              "   variance  skewness  curtosis  entropy  class\n",
              "0   3.62160    8.6661   -2.8073 -0.44699      0\n",
              "1   4.54590    8.1674   -2.4586 -1.46210      0\n",
              "2   3.86600   -2.6383    1.9242  0.10645      0\n",
              "3   3.45660    9.5228   -4.0112 -3.59440      0\n",
              "4   0.32924   -4.4552    4.5718 -0.98880      0"
            ],
            "text/html": [
              "\n",
              "  <div id=\"df-6407f397-2c73-4e96-8251-b2154f4e442a\">\n",
              "    <div class=\"colab-df-container\">\n",
              "      <div>\n",
              "<style scoped>\n",
              "    .dataframe tbody tr th:only-of-type {\n",
              "        vertical-align: middle;\n",
              "    }\n",
              "\n",
              "    .dataframe tbody tr th {\n",
              "        vertical-align: top;\n",
              "    }\n",
              "\n",
              "    .dataframe thead th {\n",
              "        text-align: right;\n",
              "    }\n",
              "</style>\n",
              "<table border=\"1\" class=\"dataframe\">\n",
              "  <thead>\n",
              "    <tr style=\"text-align: right;\">\n",
              "      <th></th>\n",
              "      <th>variance</th>\n",
              "      <th>skewness</th>\n",
              "      <th>curtosis</th>\n",
              "      <th>entropy</th>\n",
              "      <th>class</th>\n",
              "    </tr>\n",
              "  </thead>\n",
              "  <tbody>\n",
              "    <tr>\n",
              "      <th>0</th>\n",
              "      <td>3.62160</td>\n",
              "      <td>8.6661</td>\n",
              "      <td>-2.8073</td>\n",
              "      <td>-0.44699</td>\n",
              "      <td>0</td>\n",
              "    </tr>\n",
              "    <tr>\n",
              "      <th>1</th>\n",
              "      <td>4.54590</td>\n",
              "      <td>8.1674</td>\n",
              "      <td>-2.4586</td>\n",
              "      <td>-1.46210</td>\n",
              "      <td>0</td>\n",
              "    </tr>\n",
              "    <tr>\n",
              "      <th>2</th>\n",
              "      <td>3.86600</td>\n",
              "      <td>-2.6383</td>\n",
              "      <td>1.9242</td>\n",
              "      <td>0.10645</td>\n",
              "      <td>0</td>\n",
              "    </tr>\n",
              "    <tr>\n",
              "      <th>3</th>\n",
              "      <td>3.45660</td>\n",
              "      <td>9.5228</td>\n",
              "      <td>-4.0112</td>\n",
              "      <td>-3.59440</td>\n",
              "      <td>0</td>\n",
              "    </tr>\n",
              "    <tr>\n",
              "      <th>4</th>\n",
              "      <td>0.32924</td>\n",
              "      <td>-4.4552</td>\n",
              "      <td>4.5718</td>\n",
              "      <td>-0.98880</td>\n",
              "      <td>0</td>\n",
              "    </tr>\n",
              "  </tbody>\n",
              "</table>\n",
              "</div>\n",
              "      <button class=\"colab-df-convert\" onclick=\"convertToInteractive('df-6407f397-2c73-4e96-8251-b2154f4e442a')\"\n",
              "              title=\"Convert this dataframe to an interactive table.\"\n",
              "              style=\"display:none;\">\n",
              "        \n",
              "  <svg xmlns=\"http://www.w3.org/2000/svg\" height=\"24px\"viewBox=\"0 0 24 24\"\n",
              "       width=\"24px\">\n",
              "    <path d=\"M0 0h24v24H0V0z\" fill=\"none\"/>\n",
              "    <path d=\"M18.56 5.44l.94 2.06.94-2.06 2.06-.94-2.06-.94-.94-2.06-.94 2.06-2.06.94zm-11 1L8.5 8.5l.94-2.06 2.06-.94-2.06-.94L8.5 2.5l-.94 2.06-2.06.94zm10 10l.94 2.06.94-2.06 2.06-.94-2.06-.94-.94-2.06-.94 2.06-2.06.94z\"/><path d=\"M17.41 7.96l-1.37-1.37c-.4-.4-.92-.59-1.43-.59-.52 0-1.04.2-1.43.59L10.3 9.45l-7.72 7.72c-.78.78-.78 2.05 0 2.83L4 21.41c.39.39.9.59 1.41.59.51 0 1.02-.2 1.41-.59l7.78-7.78 2.81-2.81c.8-.78.8-2.07 0-2.86zM5.41 20L4 18.59l7.72-7.72 1.47 1.35L5.41 20z\"/>\n",
              "  </svg>\n",
              "      </button>\n",
              "      \n",
              "  <style>\n",
              "    .colab-df-container {\n",
              "      display:flex;\n",
              "      flex-wrap:wrap;\n",
              "      gap: 12px;\n",
              "    }\n",
              "\n",
              "    .colab-df-convert {\n",
              "      background-color: #E8F0FE;\n",
              "      border: none;\n",
              "      border-radius: 50%;\n",
              "      cursor: pointer;\n",
              "      display: none;\n",
              "      fill: #1967D2;\n",
              "      height: 32px;\n",
              "      padding: 0 0 0 0;\n",
              "      width: 32px;\n",
              "    }\n",
              "\n",
              "    .colab-df-convert:hover {\n",
              "      background-color: #E2EBFA;\n",
              "      box-shadow: 0px 1px 2px rgba(60, 64, 67, 0.3), 0px 1px 3px 1px rgba(60, 64, 67, 0.15);\n",
              "      fill: #174EA6;\n",
              "    }\n",
              "\n",
              "    [theme=dark] .colab-df-convert {\n",
              "      background-color: #3B4455;\n",
              "      fill: #D2E3FC;\n",
              "    }\n",
              "\n",
              "    [theme=dark] .colab-df-convert:hover {\n",
              "      background-color: #434B5C;\n",
              "      box-shadow: 0px 1px 3px 1px rgba(0, 0, 0, 0.15);\n",
              "      filter: drop-shadow(0px 1px 2px rgba(0, 0, 0, 0.3));\n",
              "      fill: #FFFFFF;\n",
              "    }\n",
              "  </style>\n",
              "\n",
              "      <script>\n",
              "        const buttonEl =\n",
              "          document.querySelector('#df-6407f397-2c73-4e96-8251-b2154f4e442a button.colab-df-convert');\n",
              "        buttonEl.style.display =\n",
              "          google.colab.kernel.accessAllowed ? 'block' : 'none';\n",
              "\n",
              "        async function convertToInteractive(key) {\n",
              "          const element = document.querySelector('#df-6407f397-2c73-4e96-8251-b2154f4e442a');\n",
              "          const dataTable =\n",
              "            await google.colab.kernel.invokeFunction('convertToInteractive',\n",
              "                                                     [key], {});\n",
              "          if (!dataTable) return;\n",
              "\n",
              "          const docLinkHtml = 'Like what you see? Visit the ' +\n",
              "            '<a target=\"_blank\" href=https://colab.research.google.com/notebooks/data_table.ipynb>data table notebook</a>'\n",
              "            + ' to learn more about interactive tables.';\n",
              "          element.innerHTML = '';\n",
              "          dataTable['output_type'] = 'display_data';\n",
              "          await google.colab.output.renderOutput(dataTable, element);\n",
              "          const docLink = document.createElement('div');\n",
              "          docLink.innerHTML = docLinkHtml;\n",
              "          element.appendChild(docLink);\n",
              "        }\n",
              "      </script>\n",
              "    </div>\n",
              "  </div>\n",
              "  "
            ]
          },
          "metadata": {},
          "execution_count": 2
        }
      ]
    },
    {
      "cell_type": "code",
      "source": [
        "data.shape"
      ],
      "metadata": {
        "colab": {
          "base_uri": "https://localhost:8080/"
        },
        "id": "fQonsRqXamwp",
        "outputId": "43129b43-1023-4a7f-c1e5-307d41f1382c"
      },
      "execution_count": 3,
      "outputs": [
        {
          "output_type": "execute_result",
          "data": {
            "text/plain": [
              "(1372, 5)"
            ]
          },
          "metadata": {},
          "execution_count": 3
        }
      ]
    },
    {
      "cell_type": "code",
      "source": [
        "data.describe(include = 'all')"
      ],
      "metadata": {
        "colab": {
          "base_uri": "https://localhost:8080/",
          "height": 300
        },
        "id": "mGr14P4MasAS",
        "outputId": "302c67df-cf3c-4909-d2c5-3bac93648bbd"
      },
      "execution_count": 4,
      "outputs": [
        {
          "output_type": "execute_result",
          "data": {
            "text/plain": [
              "          variance     skewness     curtosis      entropy        class\n",
              "count  1372.000000  1372.000000  1372.000000  1372.000000  1372.000000\n",
              "mean      0.433735     1.922353     1.397627    -1.191657     0.444606\n",
              "std       2.842763     5.869047     4.310030     2.101013     0.497103\n",
              "min      -7.042100   -13.773100    -5.286100    -8.548200     0.000000\n",
              "25%      -1.773000    -1.708200    -1.574975    -2.413450     0.000000\n",
              "50%       0.496180     2.319650     0.616630    -0.586650     0.000000\n",
              "75%       2.821475     6.814625     3.179250     0.394810     1.000000\n",
              "max       6.824800    12.951600    17.927400     2.449500     1.000000"
            ],
            "text/html": [
              "\n",
              "  <div id=\"df-96937229-5b01-4b26-8e06-259b551128cd\">\n",
              "    <div class=\"colab-df-container\">\n",
              "      <div>\n",
              "<style scoped>\n",
              "    .dataframe tbody tr th:only-of-type {\n",
              "        vertical-align: middle;\n",
              "    }\n",
              "\n",
              "    .dataframe tbody tr th {\n",
              "        vertical-align: top;\n",
              "    }\n",
              "\n",
              "    .dataframe thead th {\n",
              "        text-align: right;\n",
              "    }\n",
              "</style>\n",
              "<table border=\"1\" class=\"dataframe\">\n",
              "  <thead>\n",
              "    <tr style=\"text-align: right;\">\n",
              "      <th></th>\n",
              "      <th>variance</th>\n",
              "      <th>skewness</th>\n",
              "      <th>curtosis</th>\n",
              "      <th>entropy</th>\n",
              "      <th>class</th>\n",
              "    </tr>\n",
              "  </thead>\n",
              "  <tbody>\n",
              "    <tr>\n",
              "      <th>count</th>\n",
              "      <td>1372.000000</td>\n",
              "      <td>1372.000000</td>\n",
              "      <td>1372.000000</td>\n",
              "      <td>1372.000000</td>\n",
              "      <td>1372.000000</td>\n",
              "    </tr>\n",
              "    <tr>\n",
              "      <th>mean</th>\n",
              "      <td>0.433735</td>\n",
              "      <td>1.922353</td>\n",
              "      <td>1.397627</td>\n",
              "      <td>-1.191657</td>\n",
              "      <td>0.444606</td>\n",
              "    </tr>\n",
              "    <tr>\n",
              "      <th>std</th>\n",
              "      <td>2.842763</td>\n",
              "      <td>5.869047</td>\n",
              "      <td>4.310030</td>\n",
              "      <td>2.101013</td>\n",
              "      <td>0.497103</td>\n",
              "    </tr>\n",
              "    <tr>\n",
              "      <th>min</th>\n",
              "      <td>-7.042100</td>\n",
              "      <td>-13.773100</td>\n",
              "      <td>-5.286100</td>\n",
              "      <td>-8.548200</td>\n",
              "      <td>0.000000</td>\n",
              "    </tr>\n",
              "    <tr>\n",
              "      <th>25%</th>\n",
              "      <td>-1.773000</td>\n",
              "      <td>-1.708200</td>\n",
              "      <td>-1.574975</td>\n",
              "      <td>-2.413450</td>\n",
              "      <td>0.000000</td>\n",
              "    </tr>\n",
              "    <tr>\n",
              "      <th>50%</th>\n",
              "      <td>0.496180</td>\n",
              "      <td>2.319650</td>\n",
              "      <td>0.616630</td>\n",
              "      <td>-0.586650</td>\n",
              "      <td>0.000000</td>\n",
              "    </tr>\n",
              "    <tr>\n",
              "      <th>75%</th>\n",
              "      <td>2.821475</td>\n",
              "      <td>6.814625</td>\n",
              "      <td>3.179250</td>\n",
              "      <td>0.394810</td>\n",
              "      <td>1.000000</td>\n",
              "    </tr>\n",
              "    <tr>\n",
              "      <th>max</th>\n",
              "      <td>6.824800</td>\n",
              "      <td>12.951600</td>\n",
              "      <td>17.927400</td>\n",
              "      <td>2.449500</td>\n",
              "      <td>1.000000</td>\n",
              "    </tr>\n",
              "  </tbody>\n",
              "</table>\n",
              "</div>\n",
              "      <button class=\"colab-df-convert\" onclick=\"convertToInteractive('df-96937229-5b01-4b26-8e06-259b551128cd')\"\n",
              "              title=\"Convert this dataframe to an interactive table.\"\n",
              "              style=\"display:none;\">\n",
              "        \n",
              "  <svg xmlns=\"http://www.w3.org/2000/svg\" height=\"24px\"viewBox=\"0 0 24 24\"\n",
              "       width=\"24px\">\n",
              "    <path d=\"M0 0h24v24H0V0z\" fill=\"none\"/>\n",
              "    <path d=\"M18.56 5.44l.94 2.06.94-2.06 2.06-.94-2.06-.94-.94-2.06-.94 2.06-2.06.94zm-11 1L8.5 8.5l.94-2.06 2.06-.94-2.06-.94L8.5 2.5l-.94 2.06-2.06.94zm10 10l.94 2.06.94-2.06 2.06-.94-2.06-.94-.94-2.06-.94 2.06-2.06.94z\"/><path d=\"M17.41 7.96l-1.37-1.37c-.4-.4-.92-.59-1.43-.59-.52 0-1.04.2-1.43.59L10.3 9.45l-7.72 7.72c-.78.78-.78 2.05 0 2.83L4 21.41c.39.39.9.59 1.41.59.51 0 1.02-.2 1.41-.59l7.78-7.78 2.81-2.81c.8-.78.8-2.07 0-2.86zM5.41 20L4 18.59l7.72-7.72 1.47 1.35L5.41 20z\"/>\n",
              "  </svg>\n",
              "      </button>\n",
              "      \n",
              "  <style>\n",
              "    .colab-df-container {\n",
              "      display:flex;\n",
              "      flex-wrap:wrap;\n",
              "      gap: 12px;\n",
              "    }\n",
              "\n",
              "    .colab-df-convert {\n",
              "      background-color: #E8F0FE;\n",
              "      border: none;\n",
              "      border-radius: 50%;\n",
              "      cursor: pointer;\n",
              "      display: none;\n",
              "      fill: #1967D2;\n",
              "      height: 32px;\n",
              "      padding: 0 0 0 0;\n",
              "      width: 32px;\n",
              "    }\n",
              "\n",
              "    .colab-df-convert:hover {\n",
              "      background-color: #E2EBFA;\n",
              "      box-shadow: 0px 1px 2px rgba(60, 64, 67, 0.3), 0px 1px 3px 1px rgba(60, 64, 67, 0.15);\n",
              "      fill: #174EA6;\n",
              "    }\n",
              "\n",
              "    [theme=dark] .colab-df-convert {\n",
              "      background-color: #3B4455;\n",
              "      fill: #D2E3FC;\n",
              "    }\n",
              "\n",
              "    [theme=dark] .colab-df-convert:hover {\n",
              "      background-color: #434B5C;\n",
              "      box-shadow: 0px 1px 3px 1px rgba(0, 0, 0, 0.15);\n",
              "      filter: drop-shadow(0px 1px 2px rgba(0, 0, 0, 0.3));\n",
              "      fill: #FFFFFF;\n",
              "    }\n",
              "  </style>\n",
              "\n",
              "      <script>\n",
              "        const buttonEl =\n",
              "          document.querySelector('#df-96937229-5b01-4b26-8e06-259b551128cd button.colab-df-convert');\n",
              "        buttonEl.style.display =\n",
              "          google.colab.kernel.accessAllowed ? 'block' : 'none';\n",
              "\n",
              "        async function convertToInteractive(key) {\n",
              "          const element = document.querySelector('#df-96937229-5b01-4b26-8e06-259b551128cd');\n",
              "          const dataTable =\n",
              "            await google.colab.kernel.invokeFunction('convertToInteractive',\n",
              "                                                     [key], {});\n",
              "          if (!dataTable) return;\n",
              "\n",
              "          const docLinkHtml = 'Like what you see? Visit the ' +\n",
              "            '<a target=\"_blank\" href=https://colab.research.google.com/notebooks/data_table.ipynb>data table notebook</a>'\n",
              "            + ' to learn more about interactive tables.';\n",
              "          element.innerHTML = '';\n",
              "          dataTable['output_type'] = 'display_data';\n",
              "          await google.colab.output.renderOutput(dataTable, element);\n",
              "          const docLink = document.createElement('div');\n",
              "          docLink.innerHTML = docLinkHtml;\n",
              "          element.appendChild(docLink);\n",
              "        }\n",
              "      </script>\n",
              "    </div>\n",
              "  </div>\n",
              "  "
            ]
          },
          "metadata": {},
          "execution_count": 4
        }
      ]
    },
    {
      "cell_type": "code",
      "source": [
        "x = data.drop('class' ,axis=1)\n",
        "y = data['class']\n",
        "\n",
        "print(x.head(2))\n",
        "print(y.head(2))"
      ],
      "metadata": {
        "colab": {
          "base_uri": "https://localhost:8080/"
        },
        "id": "RWGPgAhOayRS",
        "outputId": "5af70aba-1424-479f-ac5b-ac9183a2d771"
      },
      "execution_count": 5,
      "outputs": [
        {
          "output_type": "stream",
          "name": "stdout",
          "text": [
            "   variance  skewness  curtosis  entropy\n",
            "0    3.6216    8.6661   -2.8073 -0.44699\n",
            "1    4.5459    8.1674   -2.4586 -1.46210\n",
            "0    0\n",
            "1    0\n",
            "Name: class, dtype: int64\n"
          ]
        }
      ]
    },
    {
      "cell_type": "code",
      "source": [
        "from sklearn.model_selection import train_test_split\n",
        "\n",
        "x_train, x_test_val, y_train, y_test_val = train_test_split(x, y, test_size=0.3)\n",
        "x_val, x_test, y_val, y_test =train_test_split(x_test_val, y_test_val, test_size=0.5)\n",
        "print(x_train.shape)\n",
        "print(x_val.shape)\n",
        "print(x_test.shape)\n",
        "print(y_train.shape)\n",
        "print(y_val.shape)\n",
        "print(y_test.shape)"
      ],
      "metadata": {
        "colab": {
          "base_uri": "https://localhost:8080/"
        },
        "id": "xULr6fWKaz2W",
        "outputId": "b52f486a-20c7-4a18-92f7-2733ce0bfa50"
      },
      "execution_count": 6,
      "outputs": [
        {
          "output_type": "stream",
          "name": "stdout",
          "text": [
            "(960, 4)\n",
            "(206, 4)\n",
            "(206, 4)\n",
            "(960,)\n",
            "(206,)\n",
            "(206,)\n"
          ]
        }
      ]
    },
    {
      "cell_type": "code",
      "source": [
        "from keras.models import Sequential\n",
        "from keras.layers import Dense\n",
        "import tensorflow as tf\n",
        "import seaborn as sns\n",
        "\n",
        "model = Sequential([\n",
        "    Dense(32, activation='sigmoid', input_shape=(4,)),\n",
        "    Dense(32, activation='sigmoid'),\n",
        "    Dense(1, activation='sigmoid'),\n",
        "])\n",
        "\n",
        "model.compile(optimizer='sgd',\n",
        "              loss='binary_crossentropy' ,\n",
        "              metrics=['accuracy'])\n",
        "\n",
        "history = model.fit(x_train, y_train, epochs=5)\n",
        "model.evaluate(x_test, y_test)\n"
      ],
      "metadata": {
        "colab": {
          "base_uri": "https://localhost:8080/"
        },
        "id": "n9Jbq4lUa5h8",
        "outputId": "a342faad-3ba8-42e6-a21b-d4df2d27318f"
      },
      "execution_count": 7,
      "outputs": [
        {
          "output_type": "stream",
          "name": "stdout",
          "text": [
            "Epoch 1/5\n",
            "30/30 [==============================] - 1s 2ms/step - loss: 0.6700 - accuracy: 0.6865\n",
            "Epoch 2/5\n",
            "30/30 [==============================] - 0s 1ms/step - loss: 0.6583 - accuracy: 0.7198\n",
            "Epoch 3/5\n",
            "30/30 [==============================] - 0s 1ms/step - loss: 0.6505 - accuracy: 0.6104\n",
            "Epoch 4/5\n",
            "30/30 [==============================] - 0s 1ms/step - loss: 0.6431 - accuracy: 0.5948\n",
            "Epoch 5/5\n",
            "30/30 [==============================] - 0s 1ms/step - loss: 0.6360 - accuracy: 0.5865\n",
            "7/7 [==============================] - 0s 2ms/step - loss: 0.6297 - accuracy: 0.6165\n"
          ]
        },
        {
          "output_type": "execute_result",
          "data": {
            "text/plain": [
              "[0.6297256946563721, 0.6165048480033875]"
            ]
          },
          "metadata": {},
          "execution_count": 7
        }
      ]
    },
    {
      "cell_type": "code",
      "source": [
        "print(history.history.keys())\n"
      ],
      "metadata": {
        "colab": {
          "base_uri": "https://localhost:8080/"
        },
        "id": "b40JjaJ-bBFW",
        "outputId": "7e45c719-48f2-4b5d-f8f9-5b985ddebb8b"
      },
      "execution_count": 8,
      "outputs": [
        {
          "output_type": "stream",
          "name": "stdout",
          "text": [
            "dict_keys(['loss', 'accuracy'])\n"
          ]
        }
      ]
    },
    {
      "cell_type": "code",
      "source": [
        "import matplotlib.pyplot as plt\n",
        "plt.plot(history.history['loss'])\n",
        "plt.plot(history.history['accuracy'])\n",
        "\n",
        "plt.title('Model loss')\n",
        "plt.ylabel('Loss')\n",
        "plt.xlabel('Epoch')\n",
        "plt.legend(['Train', 'Test'], loc='upper right')\n",
        "plt.show()"
      ],
      "metadata": {
        "colab": {
          "base_uri": "https://localhost:8080/",
          "height": 295
        },
        "id": "JR0M-OOLbFKc",
        "outputId": "41d9a25d-a6ea-4a4e-b103-890d715fa3f2"
      },
      "execution_count": 9,
      "outputs": [
        {
          "output_type": "display_data",
          "data": {
            "text/plain": [
              "<Figure size 432x288 with 1 Axes>"
            ],
            "image/png": "[encoded data removed]"
          },
          "metadata": {
            "needs_background": "light"
          }
        }
      ]
    },
    {
      "cell_type": "code",
      "source": [
        "\n",
        "from keras.models import Sequential\n",
        "from keras.layers import Dense\n",
        "import tensorflow as tf\n",
        "import seaborn as sns\n",
        "\n",
        "model = Sequential([\n",
        "    Dense(32, activation='relu', input_shape=(4,)),\n",
        "    Dense(32, activation='relu'),\n",
        "    Dense(1, activation='relu'),\n",
        "])\n",
        "\n",
        "model.compile(optimizer='sgd',\n",
        "              loss='binary_crossentropy' ,\n",
        "              metrics=['accuracy'])\n",
        "model.fit(x_train, y_train, epochs=5)\n",
        "hist = model.fit(x_train, y_train,\n",
        "             batch_size=32, epochs=100,\n",
        "             validation_data=(x_val, y_val))\n"
      ],
      "metadata": {
        "colab": {
          "base_uri": "https://localhost:8080/"
        },
        "id": "JVSevAhybK4J",
        "outputId": "cd5d8077-60e2-4438-a559-f0b5d67126e9"
      },
      "execution_count": 10,
      "outputs": [
        {
          "output_type": "stream",
          "name": "stdout",
          "text": [
            "Epoch 1/5\n",
            "30/30 [==============================] - 0s 1ms/step - loss: 4.1962 - accuracy: 0.6562\n",
            "Epoch 2/5\n",
            "30/30 [==============================] - 0s 1ms/step - loss: 1.1368 - accuracy: 0.8969\n",
            "Epoch 3/5\n",
            "30/30 [==============================] - 0s 1ms/step - loss: 0.4669 - accuracy: 0.9552\n",
            "Epoch 4/5\n",
            "30/30 [==============================] - 0s 1ms/step - loss: 0.1886 - accuracy: 0.9771\n",
            "Epoch 5/5\n",
            "30/30 [==============================] - 0s 1ms/step - loss: 0.1763 - accuracy: 0.9802\n",
            "Epoch 1/100\n",
            "30/30 [==============================] - 0s 7ms/step - loss: 0.1740 - accuracy: 0.9823 - val_loss: 0.0876 - val_accuracy: 0.9903\n",
            "Epoch 2/100\n",
            "30/30 [==============================] - 0s 2ms/step - loss: 0.1719 - accuracy: 0.9844 - val_loss: 0.0860 - val_accuracy: 0.9903\n",
            "Epoch 3/100\n",
            "30/30 [==============================] - 0s 2ms/step - loss: 0.0337 - accuracy: 0.9906 - val_loss: 0.0119 - val_accuracy: 0.9903\n",
            "Epoch 4/100\n",
            "30/30 [==============================] - 0s 2ms/step - loss: 0.0124 - accuracy: 0.9927 - val_loss: 0.0108 - val_accuracy: 0.9903\n",
            "Epoch 5/100\n",
            "30/30 [==============================] - 0s 3ms/step - loss: 0.0112 - accuracy: 0.9937 - val_loss: 0.0092 - val_accuracy: 0.9903\n",
            "Epoch 6/100\n",
            "30/30 [==============================] - 0s 3ms/step - loss: 0.0100 - accuracy: 0.9948 - val_loss: 0.0088 - val_accuracy: 0.9951\n",
            "Epoch 7/100\n",
            "30/30 [==============================] - 0s 4ms/step - loss: 0.0092 - accuracy: 0.9958 - val_loss: 0.0078 - val_accuracy: 1.0000\n",
            "Epoch 8/100\n",
            "30/30 [==============================] - 0s 3ms/step - loss: 0.0084 - accuracy: 0.9969 - val_loss: 0.0071 - val_accuracy: 1.0000\n",
            "Epoch 9/100\n",
            "30/30 [==============================] - 0s 4ms/step - loss: 0.0079 - accuracy: 0.9969 - val_loss: 0.0067 - val_accuracy: 1.0000\n",
            "Epoch 10/100\n",
            "30/30 [==============================] - 0s 4ms/step - loss: 0.0072 - accuracy: 0.9969 - val_loss: 0.0061 - val_accuracy: 1.0000\n",
            "Epoch 11/100\n",
            "30/30 [==============================] - 0s 5ms/step - loss: 0.0067 - accuracy: 0.9969 - val_loss: 0.0059 - val_accuracy: 1.0000\n",
            "Epoch 12/100\n",
            "30/30 [==============================] - 0s 7ms/step - loss: 0.0063 - accuracy: 0.9979 - val_loss: 0.0054 - val_accuracy: 1.0000\n",
            "Epoch 13/100\n",
            "30/30 [==============================] - 0s 2ms/step - loss: 0.0058 - accuracy: 0.9979 - val_loss: 0.0049 - val_accuracy: 1.0000\n",
            "Epoch 14/100\n",
            "30/30 [==============================] - 0s 2ms/step - loss: 0.0054 - accuracy: 0.9979 - val_loss: 0.0048 - val_accuracy: 1.0000\n",
            "Epoch 15/100\n",
            "30/30 [==============================] - 0s 2ms/step - loss: 0.0050 - accuracy: 0.9979 - val_loss: 0.0043 - val_accuracy: 1.0000\n",
            "Epoch 16/100\n",
            "30/30 [==============================] - 0s 2ms/step - loss: 0.0047 - accuracy: 0.9990 - val_loss: 0.0042 - val_accuracy: 1.0000\n",
            "Epoch 17/100\n",
            "30/30 [==============================] - 0s 2ms/step - loss: 0.0044 - accuracy: 0.9990 - val_loss: 0.0038 - val_accuracy: 1.0000\n",
            "Epoch 18/100\n",
            "30/30 [==============================] - 0s 2ms/step - loss: 0.0042 - accuracy: 0.9990 - val_loss: 0.0037 - val_accuracy: 1.0000\n",
            "Epoch 19/100\n",
            "30/30 [==============================] - 0s 2ms/step - loss: 0.0038 - accuracy: 0.9990 - val_loss: 0.0035 - val_accuracy: 1.0000\n",
            "Epoch 20/100\n",
            "30/30 [==============================] - 0s 2ms/step - loss: 0.0037 - accuracy: 0.9990 - val_loss: 0.0034 - val_accuracy: 1.0000\n",
            "Epoch 21/100\n",
            "30/30 [==============================] - 0s 2ms/step - loss: 0.0033 - accuracy: 0.9990 - val_loss: 0.0030 - val_accuracy: 1.0000\n",
            "Epoch 22/100\n",
            "30/30 [==============================] - 0s 2ms/step - loss: 0.0031 - accuracy: 0.9990 - val_loss: 0.0028 - val_accuracy: 1.0000\n",
            "Epoch 23/100\n",
            "30/30 [==============================] - 0s 2ms/step - loss: 0.0028 - accuracy: 1.0000 - val_loss: 0.0029 - val_accuracy: 1.0000\n",
            "Epoch 24/100\n",
            "30/30 [==============================] - 0s 2ms/step - loss: 0.0027 - accuracy: 1.0000 - val_loss: 0.0025 - val_accuracy: 1.0000\n",
            "Epoch 25/100\n",
            "30/30 [==============================] - 0s 2ms/step - loss: 0.0024 - accuracy: 1.0000 - val_loss: 0.0023 - val_accuracy: 1.0000\n",
            "Epoch 26/100\n",
            "30/30 [==============================] - 0s 2ms/step - loss: 0.0023 - accuracy: 1.0000 - val_loss: 0.0021 - val_accuracy: 1.0000\n",
            "Epoch 27/100\n",
            "30/30 [==============================] - 0s 2ms/step - loss: 0.0021 - accuracy: 1.0000 - val_loss: 0.0020 - val_accuracy: 1.0000\n",
            "Epoch 28/100\n",
            "30/30 [==============================] - 0s 2ms/step - loss: 0.0019 - accuracy: 1.0000 - val_loss: 0.0018 - val_accuracy: 1.0000\n",
            "Epoch 29/100\n",
            "30/30 [==============================] - 0s 2ms/step - loss: 0.0017 - accuracy: 1.0000 - val_loss: 0.0017 - val_accuracy: 1.0000\n",
            "Epoch 30/100\n",
            "30/30 [==============================] - 0s 2ms/step - loss: 0.0016 - accuracy: 1.0000 - val_loss: 0.0015 - val_accuracy: 1.0000\n",
            "Epoch 31/100\n",
            "30/30 [==============================] - 0s 2ms/step - loss: 0.0015 - accuracy: 1.0000 - val_loss: 0.0015 - val_accuracy: 1.0000\n",
            "Epoch 32/100\n",
            "30/30 [==============================] - 0s 2ms/step - loss: 0.0014 - accuracy: 1.0000 - val_loss: 0.0014 - val_accuracy: 1.0000\n",
            "Epoch 33/100\n",
            "30/30 [==============================] - 0s 2ms/step - loss: 0.0013 - accuracy: 1.0000 - val_loss: 0.0013 - val_accuracy: 1.0000\n",
            "Epoch 34/100\n",
            "30/30 [==============================] - 0s 2ms/step - loss: 0.0012 - accuracy: 1.0000 - val_loss: 0.0012 - val_accuracy: 1.0000\n",
            "Epoch 35/100\n",
            "30/30 [==============================] - 0s 2ms/step - loss: 0.0012 - accuracy: 1.0000 - val_loss: 0.0011 - val_accuracy: 1.0000\n",
            "Epoch 36/100\n",
            "30/30 [==============================] - 0s 2ms/step - loss: 0.0011 - accuracy: 1.0000 - val_loss: 9.6131e-04 - val_accuracy: 1.0000\n",
            "Epoch 37/100\n",
            "30/30 [==============================] - 0s 2ms/step - loss: 0.0010 - accuracy: 1.0000 - val_loss: 9.3398e-04 - val_accuracy: 1.0000\n",
            "Epoch 38/100\n",
            "30/30 [==============================] - 0s 2ms/step - loss: 9.7377e-04 - accuracy: 1.0000 - val_loss: 0.0010 - val_accuracy: 1.0000\n",
            "Epoch 39/100\n",
            "30/30 [==============================] - 0s 2ms/step - loss: 9.3546e-04 - accuracy: 1.0000 - val_loss: 9.5034e-04 - val_accuracy: 1.0000\n",
            "Epoch 40/100\n",
            "30/30 [==============================] - 0s 2ms/step - loss: 8.8932e-04 - accuracy: 1.0000 - val_loss: 9.0712e-04 - val_accuracy: 1.0000\n",
            "Epoch 41/100\n",
            "30/30 [==============================] - 0s 2ms/step - loss: 8.5810e-04 - accuracy: 1.0000 - val_loss: 8.5667e-04 - val_accuracy: 1.0000\n",
            "Epoch 42/100\n",
            "30/30 [==============================] - 0s 2ms/step - loss: 8.2725e-04 - accuracy: 1.0000 - val_loss: 8.4182e-04 - val_accuracy: 1.0000\n",
            "Epoch 43/100\n",
            "30/30 [==============================] - 0s 2ms/step - loss: 8.0031e-04 - accuracy: 1.0000 - val_loss: 8.4342e-04 - val_accuracy: 1.0000\n",
            "Epoch 44/100\n",
            "30/30 [==============================] - 0s 2ms/step - loss: 7.6171e-04 - accuracy: 1.0000 - val_loss: 8.7878e-04 - val_accuracy: 1.0000\n",
            "Epoch 45/100\n",
            "30/30 [==============================] - 0s 3ms/step - loss: 7.4517e-04 - accuracy: 1.0000 - val_loss: 8.7992e-04 - val_accuracy: 1.0000\n",
            "Epoch 46/100\n",
            "30/30 [==============================] - 0s 2ms/step - loss: 7.0801e-04 - accuracy: 1.0000 - val_loss: 8.7979e-04 - val_accuracy: 1.0000\n",
            "Epoch 47/100\n",
            "30/30 [==============================] - 0s 2ms/step - loss: 6.9706e-04 - accuracy: 1.0000 - val_loss: 8.8211e-04 - val_accuracy: 1.0000\n",
            "Epoch 48/100\n",
            "30/30 [==============================] - 0s 2ms/step - loss: 6.5926e-04 - accuracy: 1.0000 - val_loss: 9.0818e-04 - val_accuracy: 1.0000\n",
            "Epoch 49/100\n",
            "30/30 [==============================] - 0s 2ms/step - loss: 6.4688e-04 - accuracy: 1.0000 - val_loss: 9.0103e-04 - val_accuracy: 1.0000\n",
            "Epoch 50/100\n",
            "30/30 [==============================] - 0s 2ms/step - loss: 6.2556e-04 - accuracy: 1.0000 - val_loss: 9.3027e-04 - val_accuracy: 1.0000\n",
            "Epoch 51/100\n",
            "30/30 [==============================] - 0s 2ms/step - loss: 6.1372e-04 - accuracy: 1.0000 - val_loss: 9.2691e-04 - val_accuracy: 1.0000\n",
            "Epoch 52/100\n",
            "30/30 [==============================] - 0s 2ms/step - loss: 5.9503e-04 - accuracy: 1.0000 - val_loss: 9.3748e-04 - val_accuracy: 1.0000\n",
            "Epoch 53/100\n",
            "30/30 [==============================] - 0s 2ms/step - loss: 5.7870e-04 - accuracy: 1.0000 - val_loss: 9.5071e-04 - val_accuracy: 1.0000\n",
            "Epoch 54/100\n",
            "30/30 [==============================] - 0s 2ms/step - loss: 5.6275e-04 - accuracy: 1.0000 - val_loss: 9.6273e-04 - val_accuracy: 1.0000\n",
            "Epoch 55/100\n",
            "30/30 [==============================] - 0s 2ms/step - loss: 5.4564e-04 - accuracy: 1.0000 - val_loss: 9.7768e-04 - val_accuracy: 1.0000\n",
            "Epoch 56/100\n",
            "30/30 [==============================] - 0s 2ms/step - loss: 5.3077e-04 - accuracy: 1.0000 - val_loss: 9.9314e-04 - val_accuracy: 1.0000\n",
            "Epoch 57/100\n",
            "30/30 [==============================] - 0s 2ms/step - loss: 5.1600e-04 - accuracy: 1.0000 - val_loss: 0.0010 - val_accuracy: 1.0000\n",
            "Epoch 58/100\n",
            "30/30 [==============================] - 0s 2ms/step - loss: 5.0003e-04 - accuracy: 1.0000 - val_loss: 0.0010 - val_accuracy: 1.0000\n",
            "Epoch 59/100\n",
            "30/30 [==============================] - 0s 2ms/step - loss: 4.8442e-04 - accuracy: 1.0000 - val_loss: 0.0010 - val_accuracy: 1.0000\n",
            "Epoch 60/100\n",
            "30/30 [==============================] - 0s 2ms/step - loss: 4.6912e-04 - accuracy: 1.0000 - val_loss: 0.0010 - val_accuracy: 1.0000\n",
            "Epoch 61/100\n",
            "30/30 [==============================] - 0s 2ms/step - loss: 4.5408e-04 - accuracy: 1.0000 - val_loss: 0.0011 - val_accuracy: 1.0000\n",
            "Epoch 62/100\n",
            "30/30 [==============================] - 0s 2ms/step - loss: 4.4119e-04 - accuracy: 1.0000 - val_loss: 0.0011 - val_accuracy: 1.0000\n",
            "Epoch 63/100\n",
            "30/30 [==============================] - 0s 2ms/step - loss: 4.2418e-04 - accuracy: 1.0000 - val_loss: 0.0011 - val_accuracy: 1.0000\n",
            "Epoch 64/100\n",
            "30/30 [==============================] - 0s 2ms/step - loss: 4.1324e-04 - accuracy: 1.0000 - val_loss: 0.0011 - val_accuracy: 1.0000\n",
            "Epoch 65/100\n",
            "30/30 [==============================] - 0s 2ms/step - loss: 3.9970e-04 - accuracy: 1.0000 - val_loss: 0.0011 - val_accuracy: 1.0000\n",
            "Epoch 66/100\n",
            "30/30 [==============================] - 0s 2ms/step - loss: 3.8609e-04 - accuracy: 1.0000 - val_loss: 0.0011 - val_accuracy: 1.0000\n",
            "Epoch 67/100\n",
            "30/30 [==============================] - 0s 2ms/step - loss: 3.6963e-04 - accuracy: 1.0000 - val_loss: 0.0011 - val_accuracy: 1.0000\n",
            "Epoch 68/100\n",
            "30/30 [==============================] - 0s 2ms/step - loss: 3.5802e-04 - accuracy: 1.0000 - val_loss: 0.0012 - val_accuracy: 1.0000\n",
            "Epoch 69/100\n",
            "30/30 [==============================] - 0s 2ms/step - loss: 3.5538e-04 - accuracy: 1.0000 - val_loss: 0.0011 - val_accuracy: 1.0000\n",
            "Epoch 70/100\n",
            "30/30 [==============================] - 0s 2ms/step - loss: 3.3426e-04 - accuracy: 1.0000 - val_loss: 0.0012 - val_accuracy: 1.0000\n",
            "Epoch 71/100\n",
            "30/30 [==============================] - 0s 2ms/step - loss: 3.2364e-04 - accuracy: 1.0000 - val_loss: 0.0012 - val_accuracy: 1.0000\n",
            "Epoch 72/100\n",
            "30/30 [==============================] - 0s 2ms/step - loss: 3.0797e-04 - accuracy: 1.0000 - val_loss: 0.0012 - val_accuracy: 1.0000\n",
            "Epoch 73/100\n",
            "30/30 [==============================] - 0s 2ms/step - loss: 2.9398e-04 - accuracy: 1.0000 - val_loss: 0.0012 - val_accuracy: 1.0000\n",
            "Epoch 74/100\n",
            "30/30 [==============================] - 0s 2ms/step - loss: 2.8568e-04 - accuracy: 1.0000 - val_loss: 0.0012 - val_accuracy: 1.0000\n",
            "Epoch 75/100\n",
            "30/30 [==============================] - 0s 2ms/step - loss: 2.8157e-04 - accuracy: 1.0000 - val_loss: 0.0012 - val_accuracy: 1.0000\n",
            "Epoch 76/100\n",
            "30/30 [==============================] - 0s 2ms/step - loss: 2.7541e-04 - accuracy: 1.0000 - val_loss: 0.0011 - val_accuracy: 1.0000\n",
            "Epoch 77/100\n",
            "30/30 [==============================] - 0s 2ms/step - loss: 2.6841e-04 - accuracy: 1.0000 - val_loss: 0.0012 - val_accuracy: 1.0000\n",
            "Epoch 78/100\n",
            "30/30 [==============================] - 0s 2ms/step - loss: 2.6067e-04 - accuracy: 1.0000 - val_loss: 0.0012 - val_accuracy: 1.0000\n",
            "Epoch 79/100\n",
            "30/30 [==============================] - 0s 2ms/step - loss: 2.5418e-04 - accuracy: 1.0000 - val_loss: 0.0012 - val_accuracy: 1.0000\n",
            "Epoch 80/100\n",
            "30/30 [==============================] - 0s 2ms/step - loss: 2.4775e-04 - accuracy: 1.0000 - val_loss: 0.0012 - val_accuracy: 1.0000\n",
            "Epoch 81/100\n",
            "30/30 [==============================] - 0s 2ms/step - loss: 2.4120e-04 - accuracy: 1.0000 - val_loss: 0.0012 - val_accuracy: 1.0000\n",
            "Epoch 82/100\n",
            "30/30 [==============================] - 0s 2ms/step - loss: 2.3416e-04 - accuracy: 1.0000 - val_loss: 0.0012 - val_accuracy: 1.0000\n",
            "Epoch 83/100\n",
            "30/30 [==============================] - 0s 2ms/step - loss: 2.2720e-04 - accuracy: 1.0000 - val_loss: 0.0012 - val_accuracy: 1.0000\n",
            "Epoch 84/100\n",
            "30/30 [==============================] - 0s 2ms/step - loss: 2.2407e-04 - accuracy: 1.0000 - val_loss: 0.0012 - val_accuracy: 1.0000\n",
            "Epoch 85/100\n",
            "30/30 [==============================] - 0s 2ms/step - loss: 2.1615e-04 - accuracy: 1.0000 - val_loss: 0.0012 - val_accuracy: 1.0000\n",
            "Epoch 86/100\n",
            "30/30 [==============================] - 0s 2ms/step - loss: 2.0782e-04 - accuracy: 1.0000 - val_loss: 0.0012 - val_accuracy: 1.0000\n",
            "Epoch 87/100\n",
            "30/30 [==============================] - 0s 2ms/step - loss: 2.0473e-04 - accuracy: 1.0000 - val_loss: 0.0012 - val_accuracy: 1.0000\n",
            "Epoch 88/100\n",
            "30/30 [==============================] - 0s 2ms/step - loss: 1.9761e-04 - accuracy: 1.0000 - val_loss: 0.0012 - val_accuracy: 1.0000\n",
            "Epoch 89/100\n",
            "30/30 [==============================] - 0s 2ms/step - loss: 1.9114e-04 - accuracy: 1.0000 - val_loss: 0.0012 - val_accuracy: 1.0000\n",
            "Epoch 90/100\n",
            "30/30 [==============================] - 0s 2ms/step - loss: 1.8563e-04 - accuracy: 1.0000 - val_loss: 0.0012 - val_accuracy: 1.0000\n",
            "Epoch 91/100\n",
            "30/30 [==============================] - 0s 2ms/step - loss: 1.7842e-04 - accuracy: 1.0000 - val_loss: 0.0012 - val_accuracy: 1.0000\n",
            "Epoch 92/100\n",
            "30/30 [==============================] - 0s 2ms/step - loss: 1.7569e-04 - accuracy: 1.0000 - val_loss: 0.0012 - val_accuracy: 1.0000\n",
            "Epoch 93/100\n",
            "30/30 [==============================] - 0s 2ms/step - loss: 1.7494e-04 - accuracy: 1.0000 - val_loss: 0.0012 - val_accuracy: 1.0000\n",
            "Epoch 94/100\n",
            "30/30 [==============================] - 0s 2ms/step - loss: 1.7166e-04 - accuracy: 1.0000 - val_loss: 0.0012 - val_accuracy: 1.0000\n",
            "Epoch 95/100\n",
            "30/30 [==============================] - 0s 2ms/step - loss: 1.7064e-04 - accuracy: 1.0000 - val_loss: 0.0012 - val_accuracy: 1.0000\n",
            "Epoch 96/100\n",
            "30/30 [==============================] - 0s 2ms/step - loss: 1.6928e-04 - accuracy: 1.0000 - val_loss: 0.0012 - val_accuracy: 1.0000\n",
            "Epoch 97/100\n",
            "30/30 [==============================] - 0s 2ms/step - loss: 1.6593e-04 - accuracy: 1.0000 - val_loss: 0.0012 - val_accuracy: 1.0000\n",
            "Epoch 98/100\n",
            "30/30 [==============================] - 0s 2ms/step - loss: 1.6796e-04 - accuracy: 1.0000 - val_loss: 0.0012 - val_accuracy: 1.0000\n",
            "Epoch 99/100\n",
            "30/30 [==============================] - 0s 2ms/step - loss: 1.6359e-04 - accuracy: 1.0000 - val_loss: 0.0012 - val_accuracy: 1.0000\n",
            "Epoch 100/100\n",
            "30/30 [==============================] - 0s 2ms/step - loss: 1.6221e-04 - accuracy: 1.0000 - val_loss: 0.0012 - val_accuracy: 1.0000\n"
          ]
        }
      ]
    },
    {
      "cell_type": "code",
      "source": [
        "import matplotlib.pyplot as plt\n",
        "plt.plot(hist.history['loss'])\n",
        "plt.plot(hist.history['val_loss'])\n",
        "\n",
        "plt.title('Model loss')\n",
        "plt.ylabel('Loss')\n",
        "plt.xlabel('Epoch')\n",
        "plt.legend(['Train', 'Test'], loc='upper right')\n",
        "plt.show()"
      ],
      "metadata": {
        "colab": {
          "base_uri": "https://localhost:8080/",
          "height": 295
        },
        "id": "JWloOnPybXFZ",
        "outputId": "3fa37360-a156-485f-b0e5-1bdacda58613"
      },
      "execution_count": 11,
      "outputs": [
        {
          "output_type": "display_data",
          "data": {
            "text/plain": [
              "<Figure size 432x288 with 1 Axes>"
            ],
            "image/png": "[encoded data removed]"
          },
          "metadata": {
            "needs_background": "light"
          }
        }
      ]
    }
  ]
}